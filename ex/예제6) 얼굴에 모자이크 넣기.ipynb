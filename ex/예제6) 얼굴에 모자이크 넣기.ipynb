{
 "cells": [
  {
   "cell_type": "markdown",
   "metadata": {},
   "source": [
    "# 모자이크 예제"
   ]
  },
  {
   "cell_type": "code",
   "execution_count": 5,
   "metadata": {},
   "outputs": [],
   "source": [
    "import cv2\n",
    "import time\n",
    "\n",
    "cap = cv2.VideoCapture(0)\n",
    "time.sleep(3) #warming up\n",
    "\n",
    "if not cap.isOpened():\n",
    "  exit()\n",
    "\n",
    "face_cascade = cv2.CascadeClassifier(cv2.data.haarcascades + 'haarcascade_frontalface_default.xml')\n",
    "\n",
    "while True:\n",
    "    ret, image = cap.read()\n",
    "\n",
    "    if not ret:\n",
    "        break\n",
    "\n",
    "    faces = face_cascade.detectMultiScale(image)\n",
    "    for face in faces:\n",
    "        (x, y, w, h) = face\n",
    "        x1, y1, x2, y2 = x, y, x + w, y + h\n",
    "        #cv2.rectangle(image, (x1, y1), (x2, y2), (0, 0, 255), thickness=2)\n",
    "\n",
    "        #\n",
    "\n",
    "        image_face = image[y1:y2, x1:x2]\n",
    "        w = image[y1:y2, x1:x2].shape[1]\n",
    "        h = image[y1:y2, x1:x2].shape[0]        \n",
    "        image_face = cv2.resize(image_face, (w//30, h//30))\n",
    "        image_face = cv2.resize(image_face, (w, h), interpolation=cv2.INTER_AREA)\n",
    "        image[y1:y2, x1:x2] = image_face\n",
    "\n",
    "    cv2.imshow('image', image)\n",
    "\n",
    "    if cv2.waitKey(1) == ord('q'):\n",
    "        break\n",
    "\n",
    "cap.release()\n",
    "cv2.destroyAllWindows()"
   ]
  },
  {
   "cell_type": "markdown",
   "metadata": {},
   "source": [
    "# 모자이크 대신 이미지로 수정"
   ]
  },
  {
   "cell_type": "code",
   "execution_count": 8,
   "metadata": {},
   "outputs": [
    {
     "name": "stdout",
     "output_type": "stream",
     "text": [
      "Number of faces detected: 2\n",
      "Number of faces detected: 1\n",
      "Number of faces detected: 1\n",
      "Number of faces detected: 1\n",
      "Number of faces detected: 1\n",
      "Number of faces detected: 1\n",
      "Number of faces detected: 1\n",
      "Number of faces detected: 1\n",
      "Number of faces detected: 1\n",
      "Number of faces detected: 1\n",
      "Number of faces detected: 1\n",
      "Number of faces detected: 1\n",
      "Number of faces detected: 1\n",
      "Number of faces detected: 1\n",
      "Number of faces detected: 1\n"
     ]
    }
   ],
   "source": [
    "import numpy as np\n",
    "import cv2\n",
    "\n",
    "xml = 'haarcascade_frontalface_default.xml'\n",
    "face_cascade = cv2.CascadeClassifier(xml)\n",
    "\n",
    "mosaic_img = cv2.imread('./mask/9-2.png') # 이미지로 변경\n",
    "\n",
    "cap = cv2.VideoCapture(0) # 노트북 웹캠을 카메라로 사용\n",
    "cap.set(3,640) # 너비\n",
    "cap.set(4,480) # 높이\n",
    "\n",
    "while(True):\n",
    "    ret, frame = cap.read() \n",
    "    frame = cv2.flip(frame, 1) # 좌우 대칭\n",
    "    gray = cv2.cvtColor(frame, cv2.COLOR_BGR2GRAY)\n",
    "\n",
    "    faces = face_cascade.detectMultiScale(gray,1.05,5)\n",
    "    print(\"Number of faces detected: \" + str(len(faces)))\n",
    "\n",
    "    if len(faces):\n",
    "        for (x,y,w,h) in faces:\n",
    "            \"\"\" 인식된 얼굴 영역을 강건마 이미지로 바꾸는 코드\"\"\"\n",
    "            # 인식된 얼굴 영역에 맞도록 강건마 이미지의 높이와 너비를 바꿔줌.\n",
    "            t = cv2.resize(mosaic_img, dsize=(h, w), interpolation=cv2.cv2.INTER_LINEAR)\n",
    "            frame[y:y+h, x:x+w] = t # 인식된 얼굴 영역을 강건마 이미지로 모자이크 처리\n",
    "\n",
    "            \"\"\" 사람의 어깨선과 머리선이 강건마 이미지와 딱 맞게 이어지도록 구현한 코드\n",
    "                문제는 나한테만 딱 맞는다... \"\"\"\n",
    "#             wi, hi = int(w*0.08/2), int(h*0.23/2)\n",
    "#             t = cv2.resize(mosaic_img, dsize=(w+wi*2, h+hi*2), interpolation=cv2.cv2.INTER_LINEAR)\n",
    "#             frame[y-hi:y+h+hi, x-wi:x+w+wi] = t\n",
    "\n",
    "    cv2.imshow('result', frame)\n",
    "        \n",
    "    k = cv2.waitKey(30) & 0xff\n",
    "    if k == 27: # Esc 키를 누르면 종료\n",
    "        break\n",
    "\n",
    "cap.release()\n",
    "cv2.destroyAllWindows()"
   ]
  },
  {
   "cell_type": "code",
   "execution_count": null,
   "metadata": {},
   "outputs": [],
   "source": []
  }
 ],
 "metadata": {
  "kernelspec": {
   "display_name": "Python 3",
   "language": "python",
   "name": "python3"
  },
  "language_info": {
   "codemirror_mode": {
    "name": "ipython",
    "version": 3
   },
   "file_extension": ".py",
   "mimetype": "text/x-python",
   "name": "python",
   "nbconvert_exporter": "python",
   "pygments_lexer": "ipython3",
   "version": "3.7.0"
  }
 },
 "nbformat": 4,
 "nbformat_minor": 2
}
